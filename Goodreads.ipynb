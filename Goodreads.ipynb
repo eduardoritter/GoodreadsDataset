{
 "cells": [
  {
   "cell_type": "code",
   "execution_count": 3,
   "metadata": {},
   "outputs": [
    {
     "name": "stderr",
     "output_type": "stream",
     "text": [
      "b'Skipping line 4012: expected 10 fields, saw 11\\nSkipping line 5688: expected 10 fields, saw 11\\nSkipping line 7056: expected 10 fields, saw 11\\nSkipping line 10601: expected 10 fields, saw 11\\nSkipping line 10668: expected 10 fields, saw 11\\n'\n"
     ]
    },
    {
     "data": {
      "text/html": [
       "<div>\n",
       "<style scoped>\n",
       "    .dataframe tbody tr th:only-of-type {\n",
       "        vertical-align: middle;\n",
       "    }\n",
       "\n",
       "    .dataframe tbody tr th {\n",
       "        vertical-align: top;\n",
       "    }\n",
       "\n",
       "    .dataframe thead th {\n",
       "        text-align: right;\n",
       "    }\n",
       "</style>\n",
       "<table border=\"1\" class=\"dataframe\">\n",
       "  <thead>\n",
       "    <tr style=\"text-align: right;\">\n",
       "      <th></th>\n",
       "      <th>bookID</th>\n",
       "      <th>average_rating</th>\n",
       "      <th>isbn13</th>\n",
       "      <th># num_pages</th>\n",
       "      <th>ratings_count</th>\n",
       "      <th>text_reviews_count</th>\n",
       "    </tr>\n",
       "  </thead>\n",
       "  <tbody>\n",
       "    <tr>\n",
       "      <th>count</th>\n",
       "      <td>13714.000000</td>\n",
       "      <td>13714.000000</td>\n",
       "      <td>1.371400e+04</td>\n",
       "      <td>13714.000000</td>\n",
       "      <td>1.371400e+04</td>\n",
       "      <td>13714.000000</td>\n",
       "    </tr>\n",
       "    <tr>\n",
       "      <th>mean</th>\n",
       "      <td>22159.859195</td>\n",
       "      <td>3.930620</td>\n",
       "      <td>9.764017e+12</td>\n",
       "      <td>342.402727</td>\n",
       "      <td>1.776540e+04</td>\n",
       "      <td>533.632128</td>\n",
       "    </tr>\n",
       "    <tr>\n",
       "      <th>std</th>\n",
       "      <td>13700.926816</td>\n",
       "      <td>0.357893</td>\n",
       "      <td>3.987679e+11</td>\n",
       "      <td>252.650165</td>\n",
       "      <td>1.129572e+05</td>\n",
       "      <td>2529.006691</td>\n",
       "    </tr>\n",
       "    <tr>\n",
       "      <th>min</th>\n",
       "      <td>1.000000</td>\n",
       "      <td>0.000000</td>\n",
       "      <td>8.987060e+09</td>\n",
       "      <td>0.000000</td>\n",
       "      <td>0.000000e+00</td>\n",
       "      <td>0.000000</td>\n",
       "    </tr>\n",
       "    <tr>\n",
       "      <th>25%</th>\n",
       "      <td>10619.250000</td>\n",
       "      <td>3.770000</td>\n",
       "      <td>9.780345e+12</td>\n",
       "      <td>196.000000</td>\n",
       "      <td>8.300000e+01</td>\n",
       "      <td>7.000000</td>\n",
       "    </tr>\n",
       "    <tr>\n",
       "      <th>50%</th>\n",
       "      <td>21321.500000</td>\n",
       "      <td>3.960000</td>\n",
       "      <td>9.780613e+12</td>\n",
       "      <td>301.000000</td>\n",
       "      <td>6.305000e+02</td>\n",
       "      <td>40.000000</td>\n",
       "    </tr>\n",
       "    <tr>\n",
       "      <th>75%</th>\n",
       "      <td>33311.750000</td>\n",
       "      <td>4.130000</td>\n",
       "      <td>9.780940e+12</td>\n",
       "      <td>421.000000</td>\n",
       "      <td>4.742250e+03</td>\n",
       "      <td>222.000000</td>\n",
       "    </tr>\n",
       "    <tr>\n",
       "      <th>max</th>\n",
       "      <td>47709.000000</td>\n",
       "      <td>5.000000</td>\n",
       "      <td>9.790008e+12</td>\n",
       "      <td>6576.000000</td>\n",
       "      <td>5.629932e+06</td>\n",
       "      <td>93619.000000</td>\n",
       "    </tr>\n",
       "  </tbody>\n",
       "</table>\n",
       "</div>"
      ],
      "text/plain": [
       "             bookID  average_rating        isbn13   # num_pages  \\\n",
       "count  13714.000000    13714.000000  1.371400e+04  13714.000000   \n",
       "mean   22159.859195        3.930620  9.764017e+12    342.402727   \n",
       "std    13700.926816        0.357893  3.987679e+11    252.650165   \n",
       "min        1.000000        0.000000  8.987060e+09      0.000000   \n",
       "25%    10619.250000        3.770000  9.780345e+12    196.000000   \n",
       "50%    21321.500000        3.960000  9.780613e+12    301.000000   \n",
       "75%    33311.750000        4.130000  9.780940e+12    421.000000   \n",
       "max    47709.000000        5.000000  9.790008e+12   6576.000000   \n",
       "\n",
       "       ratings_count  text_reviews_count  \n",
       "count   1.371400e+04        13714.000000  \n",
       "mean    1.776540e+04          533.632128  \n",
       "std     1.129572e+05         2529.006691  \n",
       "min     0.000000e+00            0.000000  \n",
       "25%     8.300000e+01            7.000000  \n",
       "50%     6.305000e+02           40.000000  \n",
       "75%     4.742250e+03          222.000000  \n",
       "max     5.629932e+06        93619.000000  "
      ]
     },
     "execution_count": 3,
     "metadata": {},
     "output_type": "execute_result"
    }
   ],
   "source": [
    "import pandas as pd\n",
    "goodreads_books = pd.read_csv('books.csv', error_bad_lines=False)\n",
    "goodreads_books.describe()"
   ]
  },
  {
   "cell_type": "code",
   "execution_count": 5,
   "metadata": {},
   "outputs": [
    {
     "data": {
      "text/plain": [
       "'Salem's Lot                                                                                                                       11\n",
       "One Hundred Years of Solitude                                                                                                      11\n",
       "The Brothers Karamazov                                                                                                             10\n",
       "The Iliad                                                                                                                          10\n",
       "Gulliver's Travels                                                                                                                  9\n",
       "A Tale of Two Cities                                                                                                                9\n",
       "The Lord of the Rings (The Lord of the Rings  #1-3)                                                                                 9\n",
       "Collected Stories                                                                                                                   9\n",
       "A Midsummer Night's Dream                                                                                                           9\n",
       "Romeo and Juliet                                                                                                                    8\n",
       "The Odyssey                                                                                                                         8\n",
       "Robinson Crusoe                                                                                                                     8\n",
       "Anna Karenina                                                                                                                       8\n",
       "Heart of Darkness                                                                                                                   7\n",
       "The Scarlet Letter                                                                                                                  7\n",
       "Fahrenheit 451                                                                                                                      7\n",
       "Pride and Prejudice                                                                                                                 7\n",
       "Lord of the Flies                                                                                                                   7\n",
       "The Picture of Dorian Gray                                                                                                          7\n",
       "The Enemy (Jack Reacher  #8)                                                                                                        6\n",
       "The Secret Garden                                                                                                                   6\n",
       "The Great Gatsby                                                                                                                    6\n",
       "The Communist Manifesto                                                                                                             6\n",
       "King Lear                                                                                                                           6\n",
       "The Idiot                                                                                                                           6\n",
       "Sense and Sensibility                                                                                                               6\n",
       "Treasure Island                                                                                                                     6\n",
       "Jane Eyre                                                                                                                           6\n",
       "The Histories                                                                                                                       6\n",
       "Macbeth                                                                                                                             6\n",
       "                                                                                                                                   ..\n",
       "The Chaneysville Incident                                                                                                           1\n",
       "Conversations With God: An Uncommon Dialogue  Book 3                                                                                1\n",
       "Rayuela                                                                                                                             1\n",
       "Complete Poems  1904-1962                                                                                                           1\n",
       "Chronicles of Wasted Time                                                                                                           1\n",
       "This Other Eden                                                                                                                     1\n",
       "City of the Beasts (Eagle and Jaguar  #1)                                                                                           1\n",
       "The Lake of Souls (Cirque du Freak #10)                                                                                             1\n",
       "Aphrodite's Passion (Superhero Central #2)                                                                                          1\n",
       "The Female Brain                                                                                                                    1\n",
       "Forever Odd (Odd Thomas  #2)                                                                                                        1\n",
       "Five Children and It                                                                                                                1\n",
       "Flirting With Danger (Samantha Jellicoe  #1)                                                                                        1\n",
       "Zone of the Enders: The 2nd Runner Official Strategy Guide                                                                          1\n",
       "Harrison's Principles of Internal Medicine                                                                                          1\n",
       "Air Gear  Vol. 4 (Air Gear  #4)                                                                                                     1\n",
       "Autobiographies: Narrative of the Life of Frederick Douglass / My Bondage and My Freedom / Life and Times of Frederick Douglass     1\n",
       "The Letters of Virginia Woolf: Volume Six  1936-1941                                                                                1\n",
       "More Tales of the City (Tales of the City  #2)                                                                                      1\n",
       "The Door to Time (Ulysses Moore  #1)                                                                                                1\n",
       "Eat Right 4 Your Type                                                                                                               1\n",
       "The Portable John Adams                                                                                                             1\n",
       "Founding Brothers: The Revolutionary Generation                                                                                     1\n",
       "Tout est illuminé                                                                                                                   1\n",
       "Saint Augustine                                                                                                                     1\n",
       "Winter's Tales                                                                                                                      1\n",
       "Where Are the Children?                                                                                                             1\n",
       "When the Rivers Run Dry: Water - The Defining Crisis of the Twenty-first Century                                                    1\n",
       "The Well At The World's End: Volume I                                                                                               1\n",
       "The Collected Autobiographies of Maya Angelou                                                                                       1\n",
       "Name: title, Length: 12422, dtype: int64"
      ]
     },
     "execution_count": 5,
     "metadata": {},
     "output_type": "execute_result"
    }
   ],
   "source": [
    "goodreads_books.dtypes\n",
    "goodreads_books['title'].value_counts()\n"
   ]
  },
  {
   "cell_type": "code",
   "execution_count": 7,
   "metadata": {},
   "outputs": [
    {
     "data": {
      "text/plain": [
       "Index(['bookID', 'title', 'authors', 'average_rating', 'isbn', 'isbn13',\n",
       "       'language_code', '# num_pages', 'ratings_count', 'text_reviews_count'],\n",
       "      dtype='object')"
      ]
     },
     "execution_count": 7,
     "metadata": {},
     "output_type": "execute_result"
    }
   ],
   "source": [
    "goodreads_books.columns"
   ]
  },
  {
   "cell_type": "code",
   "execution_count": 8,
   "metadata": {},
   "outputs": [],
   "source": [
    "# The Dataset has some missing values\n",
    "goodreads_books = goodreads_books.dropna(axis=0)"
   ]
  },
  {
   "cell_type": "code",
   "execution_count": 11,
   "metadata": {},
   "outputs": [
    {
     "data": {
      "text/html": [
       "<div>\n",
       "<style scoped>\n",
       "    .dataframe tbody tr th:only-of-type {\n",
       "        vertical-align: middle;\n",
       "    }\n",
       "\n",
       "    .dataframe tbody tr th {\n",
       "        vertical-align: top;\n",
       "    }\n",
       "\n",
       "    .dataframe thead th {\n",
       "        text-align: right;\n",
       "    }\n",
       "</style>\n",
       "<table border=\"1\" class=\"dataframe\">\n",
       "  <thead>\n",
       "    <tr style=\"text-align: right;\">\n",
       "      <th></th>\n",
       "      <th>title</th>\n",
       "      <th>authors</th>\n",
       "    </tr>\n",
       "  </thead>\n",
       "  <tbody>\n",
       "    <tr>\n",
       "      <th>count</th>\n",
       "      <td>13714</td>\n",
       "      <td>13714</td>\n",
       "    </tr>\n",
       "    <tr>\n",
       "      <th>unique</th>\n",
       "      <td>12422</td>\n",
       "      <td>7600</td>\n",
       "    </tr>\n",
       "    <tr>\n",
       "      <th>top</th>\n",
       "      <td>'Salem's Lot</td>\n",
       "      <td>Agatha Christie</td>\n",
       "    </tr>\n",
       "    <tr>\n",
       "      <th>freq</th>\n",
       "      <td>11</td>\n",
       "      <td>69</td>\n",
       "    </tr>\n",
       "  </tbody>\n",
       "</table>\n",
       "</div>"
      ],
      "text/plain": [
       "               title          authors\n",
       "count          13714            13714\n",
       "unique         12422             7600\n",
       "top     'Salem's Lot  Agatha Christie\n",
       "freq              11               69"
      ]
     },
     "execution_count": 11,
     "metadata": {},
     "output_type": "execute_result"
    }
   ],
   "source": [
    "goodreads_features = ['title', 'authors']\n",
    "X = goodreads_books[goodreads_features]\n",
    "X.describe()"
   ]
  }
 ],
 "metadata": {
  "kernelspec": {
   "display_name": "Python 3",
   "language": "python",
   "name": "python3"
  },
  "language_info": {
   "codemirror_mode": {
    "name": "ipython",
    "version": 3
   },
   "file_extension": ".py",
   "mimetype": "text/x-python",
   "name": "python",
   "nbconvert_exporter": "python",
   "pygments_lexer": "ipython3",
   "version": "3.6.6"
  }
 },
 "nbformat": 4,
 "nbformat_minor": 2
}
